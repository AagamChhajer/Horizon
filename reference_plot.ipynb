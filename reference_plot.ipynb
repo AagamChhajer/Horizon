{
 "cells": [
  {
   "cell_type": "code",
   "execution_count": null,
   "metadata": {},
   "outputs": [],
   "source": [
    "from flask import Flask\n",
    "from flask_cors import CORS\n",
    "import plotly.graph_objects as go\n",
    "import numpy as np\n",
    "\n",
    "app = Flask(_name_)\n",
    "CORS(app)  # This allows CORS for all domains on all routes\n",
    "\n",
    "@app.route('/get-plot')\n",
    "def get_plot():\n",
    "    # Generate some sample data\n",
    "    x = np.linspace(0, 10, 100)\n",
    "    y = np.sin(x)\n",
    "\n",
    "    # Create a Plotly figure\n",
    "    fig = go.Figure(data=go.Scatter(x=x, y=y, mode='lines'))\n",
    "    \n",
    "    # Update layout\n",
    "    fig.update_layout(\n",
    "        title=\"Sine Wave\",\n",
    "        xaxis_title=\"X Axis\",\n",
    "        yaxis_title=\"Y Axis\"\n",
    "    )\n",
    "\n",
    "    # Convert the figure to JSON and return it\n",
    "    plot_json = fig.to_json()\n",
    "\n",
    "    return plot_json  # Directly return the JSON string\n",
    "if _name_ == '_main_':\n",
    "    app.run(port=3009)"
   ]
  }
 ],
 "metadata": {
  "language_info": {
   "name": "python"
  }
 },
 "nbformat": 4,
 "nbformat_minor": 2
}
